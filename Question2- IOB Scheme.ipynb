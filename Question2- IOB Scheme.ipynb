{
 "cells": [
  {
   "cell_type": "code",
   "execution_count": 1,
   "id": "e15eb1d3",
   "metadata": {},
   "outputs": [],
   "source": [
    "import nltk\n",
    "from nltk.tokenize import word_tokenize\n",
    "from nltk.tag import pos_tag"
   ]
  },
  {
   "cell_type": "code",
   "execution_count": 2,
   "id": "8ca99053",
   "metadata": {},
   "outputs": [],
   "source": [
    "sent= 'Sundar Pichai , the CEO of Google Inc . is walking in the streets of California .'\n",
    "words= word_tokenize(sent)\n",
    "postags=pos_tag(words)"
   ]
  },
  {
   "cell_type": "code",
   "execution_count": 3,
   "id": "5d121f56",
   "metadata": {},
   "outputs": [
    {
     "name": "stdout",
     "output_type": "stream",
     "text": [
      "(S\n",
      "  (PERSON Sundar/NNP)\n",
      "  (ORGANIZATION Pichai/NNP)\n",
      "  ,/,\n",
      "  the/DT\n",
      "  (ORGANIZATION CEO/NNP)\n",
      "  of/IN\n",
      "  (ORGANIZATION Google/NNP Inc/NNP)\n",
      "  ./.\n",
      "  is/VBZ\n",
      "  walking/VBG\n",
      "  in/IN\n",
      "  the/DT\n",
      "  streets/NNS\n",
      "  of/IN\n",
      "  (GPE California/NNP)\n",
      "  ./.)\n"
     ]
    }
   ],
   "source": [
    "ne_tree = nltk.ne_chunk(postags,binary=False)\n",
    "print(ne_tree)"
   ]
  },
  {
   "cell_type": "code",
   "execution_count": 4,
   "id": "42c35ada",
   "metadata": {},
   "outputs": [
    {
     "name": "stdout",
     "output_type": "stream",
     "text": [
      "[('Sundar', 'NNP', 'B-PERSON'), ('Pichai', 'NNP', 'B-ORGANIZATION'), (',', ',', 'O'), ('the', 'DT', 'O'), ('CEO', 'NNP', 'B-ORGANIZATION'), ('of', 'IN', 'O'), ('Google', 'NNP', 'B-ORGANIZATION'), ('Inc', 'NNP', 'I-ORGANIZATION'), ('.', '.', 'O'), ('is', 'VBZ', 'O'), ('walking', 'VBG', 'O'), ('in', 'IN', 'O'), ('the', 'DT', 'O'), ('streets', 'NNS', 'O'), ('of', 'IN', 'O'), ('California', 'NNP', 'B-GPE'), ('.', '.', 'O')]\n"
     ]
    }
   ],
   "source": [
    "from nltk.chunk import tree2conlltags\n",
    "iob_tagged = tree2conlltags(ne_tree)\n",
    "print(iob_tagged)"
   ]
  }
 ],
 "metadata": {
  "kernelspec": {
   "display_name": "Python 3 (ipykernel)",
   "language": "python",
   "name": "python3"
  },
  "language_info": {
   "codemirror_mode": {
    "name": "ipython",
    "version": 3
   },
   "file_extension": ".py",
   "mimetype": "text/x-python",
   "name": "python",
   "nbconvert_exporter": "python",
   "pygments_lexer": "ipython3",
   "version": "3.9.7"
  }
 },
 "nbformat": 4,
 "nbformat_minor": 5
}
