{
 "cells": [
  {
   "cell_type": "code",
   "execution_count": 8,
   "id": "c2643c90",
   "metadata": {},
   "outputs": [],
   "source": [
    "import tensorflow as tf\n",
    "from PIL import Image\n",
    "from tensorflow.keras import layers\n",
    "from tensorflow.keras.models import Sequential\n",
    "import pandas as pd\n",
    "import numpy as np\n",
    "import itertools\n",
    "import base64\n",
    "import io\n",
    "import matplotlib.pyplot as plt"
   ]
  },
  {
   "cell_type": "code",
   "execution_count": 3,
   "id": "f15743af",
   "metadata": {},
   "outputs": [],
   "source": [
    "from keras.datasets import cifar10"
   ]
  },
  {
   "cell_type": "code",
   "execution_count": 4,
   "id": "11426625",
   "metadata": {},
   "outputs": [
    {
     "name": "stdout",
     "output_type": "stream",
     "text": [
      "Downloading data from https://www.cs.toronto.edu/~kriz/cifar-10-python.tar.gz\n",
      "170498071/170498071 [==============================] - 28s 0us/step\n"
     ]
    }
   ],
   "source": [
    "#Loading cifar10 dataset\n",
    "(xTrain,yTrain),(xTest,yTest)=cifar10.load_data()"
   ]
  },
  {
   "cell_type": "code",
   "execution_count": 9,
   "id": "24664251",
   "metadata": {},
   "outputs": [
    {
     "data": {
      "text/plain": [
       "<matplotlib.image.AxesImage at 0x1ee4f535580>"
      ]
     },
     "execution_count": 9,
     "metadata": {},
     "output_type": "execute_result"
    },
    {
     "data": {
      "image/png": "[encoded data removed]",
      "text/plain": [
       "<Figure size 432x288 with 1 Axes>"
      ]
     },
     "metadata": {
      "needs_background": "light"
     },
     "output_type": "display_data"
    }
   ],
   "source": [
    "#checking whether the data has been loaded properly or not\n",
    "plt.imshow(xTrain[80])"
   ]
  },
  {
   "cell_type": "code",
   "execution_count": 10,
   "id": "5c2e85a6",
   "metadata": {},
   "outputs": [],
   "source": [
    "no_class = 10\n",
    "yTrain = tf.keras.utils.to_categorical(yTrain, no_class)\n",
    "yTest = tf.keras.utils.to_categorical(yTest, no_class)"
   ]
  },
  {
   "cell_type": "code",
   "execution_count": 11,
   "id": "35137263",
   "metadata": {},
   "outputs": [],
   "source": [
    "#converting the data type of the dataset\n",
    "xTrain = xTrain.astype('float32')\n",
    "xTest = xTest.astype('float32')\n",
    "xTrain = xTrain/255\n",
    "xTest =xTest/255"
   ]
  },
  {
   "cell_type": "code",
   "execution_count": 25,
   "id": "6dce0702",
   "metadata": {},
   "outputs": [],
   "source": [
    "#Building the model\n",
    "model=Sequential([\n",
    "    layers.Rescaling(1.0/255),             \n",
    "    layers.Conv2D(16,3,padding='same',activation='relu',input_shape=xTrain.shape[1:]),       \n",
    "    layers.Flatten(),                    \n",
    "    layers.Dense(128,activation='relu'),   \n",
    "    layers.Dense(no_class)\n",
    "])"
   ]
  },
  {
   "cell_type": "code",
   "execution_count": 26,
   "id": "15712f40",
   "metadata": {},
   "outputs": [],
   "source": [
    "#compiling the model\n",
    "model.compile(optimizer='adam',\n",
    "             loss=tf.keras.losses.CategoricalCrossentropy(from_logits=True),     \n",
    "             metrics=['accuracy']\n",
    "             )"
   ]
  },
  {
   "cell_type": "code",
   "execution_count": 28,
   "id": "15fb2544",
   "metadata": {},
   "outputs": [
    {
     "name": "stdout",
     "output_type": "stream",
     "text": [
      "Epoch 1/15\n",
      "1563/1563 [==============================] - 23s 15ms/step - loss: 1.5499 - accuracy: 0.4511 - val_loss: 1.5286 - val_accuracy: 0.4612\n",
      "Epoch 2/15\n",
      "1563/1563 [==============================] - 22s 14ms/step - loss: 1.5135 - accuracy: 0.4613 - val_loss: 1.5172 - val_accuracy: 0.4637\n",
      "Epoch 3/15\n",
      "1563/1563 [==============================] - 22s 14ms/step - loss: 1.4869 - accuracy: 0.4737 - val_loss: 1.4789 - val_accuracy: 0.4749\n",
      "Epoch 4/15\n",
      "1563/1563 [==============================] - 22s 14ms/step - loss: 1.4629 - accuracy: 0.4812 - val_loss: 1.4688 - val_accuracy: 0.4787\n",
      "Epoch 5/15\n",
      "1563/1563 [==============================] - 22s 14ms/step - loss: 1.4428 - accuracy: 0.4869 - val_loss: 1.4657 - val_accuracy: 0.4809\n",
      "Epoch 6/15\n",
      "1563/1563 [==============================] - 22s 14ms/step - loss: 1.4246 - accuracy: 0.4930 - val_loss: 1.4366 - val_accuracy: 0.4929\n",
      "Epoch 7/15\n",
      "1563/1563 [==============================] - 22s 14ms/step - loss: 1.4121 - accuracy: 0.5015 - val_loss: 1.4398 - val_accuracy: 0.4910\n",
      "Epoch 8/15\n",
      "1563/1563 [==============================] - 22s 14ms/step - loss: 1.3959 - accuracy: 0.5060 - val_loss: 1.4566 - val_accuracy: 0.4856\n",
      "Epoch 9/15\n",
      "1563/1563 [==============================] - 22s 14ms/step - loss: 1.3839 - accuracy: 0.5093 - val_loss: 1.4053 - val_accuracy: 0.5010\n",
      "Epoch 10/15\n",
      "1563/1563 [==============================] - 22s 14ms/step - loss: 1.3687 - accuracy: 0.5167 - val_loss: 1.4058 - val_accuracy: 0.5009\n",
      "Epoch 11/15\n",
      "1563/1563 [==============================] - 22s 14ms/step - loss: 1.3579 - accuracy: 0.5198 - val_loss: 1.4071 - val_accuracy: 0.5024\n",
      "Epoch 12/15\n",
      "1563/1563 [==============================] - 22s 14ms/step - loss: 1.3494 - accuracy: 0.5208 - val_loss: 1.4222 - val_accuracy: 0.5021\n",
      "Epoch 13/15\n",
      "1563/1563 [==============================] - 22s 14ms/step - loss: 1.3348 - accuracy: 0.5269 - val_loss: 1.3979 - val_accuracy: 0.5097\n",
      "Epoch 14/15\n",
      "1563/1563 [==============================] - 22s 14ms/step - loss: 1.3269 - accuracy: 0.5301 - val_loss: 1.4049 - val_accuracy: 0.4985\n",
      "Epoch 15/15\n",
      "1563/1563 [==============================] - 22s 14ms/step - loss: 1.3173 - accuracy: 0.5346 - val_loss: 1.3698 - val_accuracy: 0.5122\n"
     ]
    }
   ],
   "source": [
    "#fitting the model\n",
    "history=model.fit(xTrain,yTrain,                      \n",
    "                  validation_data=(xTest,yTest),       \n",
    "                  epochs=15, \n",
    "                  batch_size=32,\n",
    "                  verbose=1                       \n",
    "                 )"
   ]
  }
 ],
 "metadata": {
  "kernelspec": {
   "display_name": "Python 3 (ipykernel)",
   "language": "python",
   "name": "python3"
  },
  "language_info": {
   "codemirror_mode": {
    "name": "ipython",
    "version": 3
   },
   "file_extension": ".py",
   "mimetype": "text/x-python",
   "name": "python",
   "nbconvert_exporter": "python",
   "pygments_lexer": "ipython3",
   "version": "3.9.7"
  }
 },
 "nbformat": 4,
 "nbformat_minor": 5
}
